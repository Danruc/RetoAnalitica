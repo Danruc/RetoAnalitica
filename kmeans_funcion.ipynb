{
 "cells": [
  {
   "cell_type": "code",
   "execution_count": 4,
   "metadata": {},
   "outputs": [],
   "source": [
    "import pandas as pd\n",
    "import matplotlib\n",
    "import matplotlib.pyplot as plt\n",
    "import numpy as np; np.random.seed(0)\n",
    "import seaborn as sns\n",
    "import random"
   ]
  },
  {
   "cell_type": "code",
   "execution_count": null,
   "metadata": {},
   "outputs": [],
   "source": [
    "listaA= [-2.273284107,\n",
    "9.285248345,\n",
    "-8.803332803,\n",
    "4.925078368,\n",
    "2.586415013,\n",
    "8.084455493,\n",
    "0.9276023375,\n",
    "-7.445467699,\n",
    "-4.258454366,\n",
    "1.554880819]\n",
    "ListaB= [1.898485259,\n",
    "9.528708054,\n",
    "-1.148882298,\n",
    "2.331671642,\n",
    "1.28128069,\n",
    "-0.9130888578,\n",
    "0.5423613255,\n",
    "-0.7961183742,\n",
    "9.335165888,\n",
    "-2.925452212]\n",
    "\n",
    "def kmeans(la, lb, k):\n",
    "    centros=centro(la,k)\n",
    "    distancias=distancia(centros,la,lb,k)\n",
    "    grupos=grupo(distancias)\n",
    "    \n",
    "    \n",
    "\n",
    "def centro(la,k):\n",
    "    centros=[]\n",
    "    for i in range(k):\n",
    "        centros.append(random.randrange(len(la)))\n",
    "    return centros\n",
    "    \n",
    "def distancia(centro, la, lb):\n",
    "    distancias=[]\n",
    "    for a in range(len(centro)):\n",
    "        lista=[]\n",
    "        for i in range(len(la)):\n",
    "            lista.append((la[centro[a]]-la[i])^2+(lb[centro[a]]-lb[i])^2)\n",
    "        distancias.append(lista)\n",
    "    return distancias\n",
    "\n",
    "def grupo(distancias):\n",
    "    final=[]\n",
    "    grupoa=[]\n",
    "    grupob=[]\n",
    "    for a in range(len(distancias)-1):\n",
    "        for b in range(len(distancias[0])):\n",
    "            if(distancias[a][b]<distancias[a+1][b]):\n",
    "                grupoa.append(b)\n",
    "            else:\n",
    "                grupob.append(b)\n",
    "    \n",
    "    final.append(grupoa)\n",
    "    final.append(grupob)\n",
    "    return final"
   ]
  },
  {
   "cell_type": "code",
   "execution_count": null,
   "metadata": {},
   "outputs": [],
   "source": []
  }
 ],
 "metadata": {
  "kernelspec": {
   "display_name": "Python 3",
   "language": "python",
   "name": "python3"
  },
  "language_info": {
   "codemirror_mode": {
    "name": "ipython",
    "version": 3
   },
   "file_extension": ".py",
   "mimetype": "text/x-python",
   "name": "python",
   "nbconvert_exporter": "python",
   "pygments_lexer": "ipython3",
   "version": "3.8.5"
  }
 },
 "nbformat": 4,
 "nbformat_minor": 4
}
